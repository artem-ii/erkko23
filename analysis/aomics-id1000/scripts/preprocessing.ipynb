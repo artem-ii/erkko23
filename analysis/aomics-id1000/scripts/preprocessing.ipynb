# %% Import packages
import pandas as pd
import os
import matplotlib.pyplot as mpl

# %% Global variables
ROOT_DIR ='/Users/artemii/obrain_lab/projects/obesity-types/grant-proposals/erkko2023'
DATA_DIR = os.path.join("datasets","aomics-id1000")

participants_file = os.path.join(ROOT_DIR, DATA_DIR, "aomics_ID1000_participants.tsv")
data = pd.read_csv(participants_file, sep="\t")

# %% Preprocessing
data.describe()

# %%
data['BMI'].hist(bins=50)